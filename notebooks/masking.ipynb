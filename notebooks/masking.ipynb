{
 "cells": [
  {
   "cell_type": "code",
   "execution_count": 18,
   "id": "bf79ae41",
   "metadata": {},
   "outputs": [],
   "source": [
    "import os\n",
    "import glob\n",
    "import cv2\n",
    "import tqdm\n",
    "import random"
   ]
  },
  {
   "cell_type": "code",
   "execution_count": 39,
   "id": "3f57d813",
   "metadata": {},
   "outputs": [],
   "source": [
    "def process_image(image):\n",
    "    # Example processing: convert image to grayscale\n",
    "    gray = cv2.cvtColor(image, cv2.COLOR_BGR2GRAY)\n",
    "    \n",
    "    # Convert the grayscale image to binary\n",
    "    ret, binary = cv2.threshold(gray, 100, 255, cv2.THRESH_OTSU)\n",
    "\n",
    "    # To detect object contours, we want a black background and a white foreground, so we invert the image (i.e. 255 - pixel value)\n",
    "    inverted_binary = ~binary\n",
    "    width, height = inverted_binary.shape\n",
    "\n",
    "    # Find the contours on the inverted binary image, and store them in a list\n",
    "    # Contours are drawn around white blobs. hierarchy variable contains info on the relationship between the contours\n",
    "    contours, hierarchy = cv2.findContours(inverted_binary, cv2.RETR_TREE, cv2.CHAIN_APPROX_SIMPLE)\n",
    "\n",
    "\n",
    "    bboxes = []\n",
    "    threshold = random.randint(80, 120) / 100\n",
    "    print(threshold)\n",
    "    # Draw a bounding box around all contours\n",
    "    for c in contours:\n",
    "        x, y, w, h = cv2.boundingRect(c)\n",
    "        # Make sure contour area is large enough\n",
    "        if h < threshold * height / 100 and w < threshold * width / 100:\n",
    "            bboxes.append([x, y, w, h])\n",
    "\n",
    "    for b in bboxes:\n",
    "        x = b[0]\n",
    "        y = b[1]\n",
    "        w = int(b[2])\n",
    "        h = int(b[3])\n",
    "        cv2.rectangle(gray, (x,y), (x + w,y + h), (0, 0, 255), -1)\n",
    "        \n",
    "    #rgb_img = cv2.cvtColor(binary, cv2.COLOR_GRAY2RGB)\n",
    "        \n",
    "    return gray"
   ]
  },
  {
   "cell_type": "code",
   "execution_count": 40,
   "id": "728ca50c",
   "metadata": {},
   "outputs": [],
   "source": [
    "def process_images(input_folder, output_folder):\n",
    "    if not os.path.exists(output_folder):\n",
    "        os.makedirs(output_folder)\n",
    "    \n",
    "    for img_path in tqdm.tqdm(glob.glob(os.path.join(input_folder, '*.jpg'))):\n",
    "        # Read the image\n",
    "        image = cv2.imread(img_path)\n",
    "        \n",
    "        # Process the image\n",
    "        processed_image = process_image(image)\n",
    "        \n",
    "        # Get the filename from the path\n",
    "        filename = os.path.basename(img_path)\n",
    "        \n",
    "        # Save the processed image to the output folder with the same filename\n",
    "        cv2.imwrite(os.path.join(output_folder, filename), processed_image)"
   ]
  },
  {
   "cell_type": "code",
   "execution_count": 44,
   "id": "84dc8363",
   "metadata": {},
   "outputs": [
    {
     "name": "stderr",
     "output_type": "stream",
     "text": [
      "100%|████████████████████████████████████████████████████████████████████████████████████████████████████████████████████████████████████████████████████████████████████████| 2/2 [00:00<00:00, 36.23it/s]"
     ]
    },
    {
     "name": "stdout",
     "output_type": "stream",
     "text": [
      "1.01\n",
      "1.12\n"
     ]
    },
    {
     "name": "stderr",
     "output_type": "stream",
     "text": [
      "\n"
     ]
    }
   ],
   "source": [
    "# Example usage\n",
    "input_folder = '/home/dhruv/Projects/TD-Dataset/Sample-EMBLEM/raw'\n",
    "output_folder = '/home/dhruv/Projects/TD-Dataset/Sample-EMBLEM/masked'\n",
    "process_images(input_folder, output_folder)"
   ]
  },
  {
   "cell_type": "code",
   "execution_count": null,
   "id": "c7160ce5",
   "metadata": {},
   "outputs": [],
   "source": []
  },
  {
   "cell_type": "code",
   "execution_count": null,
   "id": "dc034098",
   "metadata": {},
   "outputs": [],
   "source": []
  }
 ],
 "metadata": {
  "kernelspec": {
   "display_name": "Python 3 (ipykernel)",
   "language": "python",
   "name": "python3"
  },
  "language_info": {
   "codemirror_mode": {
    "name": "ipython",
    "version": 3
   },
   "file_extension": ".py",
   "mimetype": "text/x-python",
   "name": "python",
   "nbconvert_exporter": "python",
   "pygments_lexer": "ipython3",
   "version": "3.9.5"
  }
 },
 "nbformat": 4,
 "nbformat_minor": 5
}
